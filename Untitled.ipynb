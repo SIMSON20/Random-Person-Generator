{
 "cells": [
  {
   "cell_type": "code",
   "execution_count": 1,
   "id": "80676374",
   "metadata": {},
   "outputs": [],
   "source": [
    "import numpy as np \n",
    "import pandas as pd\n",
    "\n",
    "import itertools"
   ]
  },
  {
   "cell_type": "code",
   "execution_count": 2,
   "id": "82b1083d",
   "metadata": {},
   "outputs": [],
   "source": [
    "male_first_names = pd.read_csv(\"data/dist.male.first.txt\")\n",
    "\n",
    "female_first_names = pd.read_csv(\"data/dist.female.first.txt\")\n",
    "\n",
    "surnames = pd.read_csv(\"data/dist.all.last.txt\")"
   ]
  },
  {
   "cell_type": "code",
   "execution_count": null,
   "id": "3b8fe6a5",
   "metadata": {},
   "outputs": [],
   "source": []
  },
  {
   "cell_type": "code",
   "execution_count": 3,
   "id": "dbc5efd7",
   "metadata": {},
   "outputs": [],
   "source": [
    "with open(\"data/dist.male.first.txt\") as f:\n",
    "    male_firsts = f.readlines()"
   ]
  },
  {
   "cell_type": "code",
   "execution_count": 4,
   "id": "2a2824fa",
   "metadata": {},
   "outputs": [],
   "source": [
    "female_first_names = pd.DataFrame([x.split() for x in male_firsts], columns = [\"name\", \"freq\", \"cum_freq\", \"rank\"])"
   ]
  },
  {
   "cell_type": "code",
   "execution_count": 5,
   "id": "e1684bb3",
   "metadata": {},
   "outputs": [],
   "source": [
    "with open(\"data/dist.female.first.txt\") as f:\n",
    "    female_firsts = f.readlines()"
   ]
  },
  {
   "cell_type": "code",
   "execution_count": 6,
   "id": "4e9cf084",
   "metadata": {},
   "outputs": [],
   "source": [
    "male_first_names=pd.DataFrame([x.split() for x in female_firsts], columns = [\"name\", \"freq\", \"cum_freq\", \"rank\"])"
   ]
  },
  {
   "cell_type": "code",
   "execution_count": 7,
   "id": "5ea762cb",
   "metadata": {},
   "outputs": [],
   "source": [
    "with open(\"data/dist.all.last.txt\") as f:\n",
    "    surnames = f.readlines()"
   ]
  },
  {
   "cell_type": "code",
   "execution_count": 8,
   "id": "0e50a6a6",
   "metadata": {},
   "outputs": [
    {
     "data": {
      "text/html": [
       "<div>\n",
       "<style scoped>\n",
       "    .dataframe tbody tr th:only-of-type {\n",
       "        vertical-align: middle;\n",
       "    }\n",
       "\n",
       "    .dataframe tbody tr th {\n",
       "        vertical-align: top;\n",
       "    }\n",
       "\n",
       "    .dataframe thead th {\n",
       "        text-align: right;\n",
       "    }\n",
       "</style>\n",
       "<table border=\"1\" class=\"dataframe\">\n",
       "  <thead>\n",
       "    <tr style=\"text-align: right;\">\n",
       "      <th></th>\n",
       "      <th>name</th>\n",
       "      <th>freq</th>\n",
       "      <th>cum_freq</th>\n",
       "      <th>rank</th>\n",
       "    </tr>\n",
       "  </thead>\n",
       "  <tbody>\n",
       "    <tr>\n",
       "      <th>0</th>\n",
       "      <td>SMITH</td>\n",
       "      <td>1.006</td>\n",
       "      <td>1.006</td>\n",
       "      <td>1</td>\n",
       "    </tr>\n",
       "    <tr>\n",
       "      <th>1</th>\n",
       "      <td>JOHNSON</td>\n",
       "      <td>0.810</td>\n",
       "      <td>1.816</td>\n",
       "      <td>2</td>\n",
       "    </tr>\n",
       "    <tr>\n",
       "      <th>2</th>\n",
       "      <td>WILLIAMS</td>\n",
       "      <td>0.699</td>\n",
       "      <td>2.515</td>\n",
       "      <td>3</td>\n",
       "    </tr>\n",
       "    <tr>\n",
       "      <th>3</th>\n",
       "      <td>JONES</td>\n",
       "      <td>0.621</td>\n",
       "      <td>3.136</td>\n",
       "      <td>4</td>\n",
       "    </tr>\n",
       "    <tr>\n",
       "      <th>4</th>\n",
       "      <td>BROWN</td>\n",
       "      <td>0.621</td>\n",
       "      <td>3.757</td>\n",
       "      <td>5</td>\n",
       "    </tr>\n",
       "    <tr>\n",
       "      <th>...</th>\n",
       "      <td>...</td>\n",
       "      <td>...</td>\n",
       "      <td>...</td>\n",
       "      <td>...</td>\n",
       "    </tr>\n",
       "    <tr>\n",
       "      <th>88794</th>\n",
       "      <td>AARDEMA</td>\n",
       "      <td>0.000</td>\n",
       "      <td>90.483</td>\n",
       "      <td>88795</td>\n",
       "    </tr>\n",
       "    <tr>\n",
       "      <th>88795</th>\n",
       "      <td>AARANT</td>\n",
       "      <td>0.000</td>\n",
       "      <td>90.483</td>\n",
       "      <td>88796</td>\n",
       "    </tr>\n",
       "    <tr>\n",
       "      <th>88796</th>\n",
       "      <td>AANDERUD</td>\n",
       "      <td>0.000</td>\n",
       "      <td>90.483</td>\n",
       "      <td>88797</td>\n",
       "    </tr>\n",
       "    <tr>\n",
       "      <th>88797</th>\n",
       "      <td>AALUND</td>\n",
       "      <td>0.000</td>\n",
       "      <td>90.483</td>\n",
       "      <td>88798</td>\n",
       "    </tr>\n",
       "    <tr>\n",
       "      <th>88798</th>\n",
       "      <td>AALDERINK</td>\n",
       "      <td>0.000</td>\n",
       "      <td>90.483</td>\n",
       "      <td>88799</td>\n",
       "    </tr>\n",
       "  </tbody>\n",
       "</table>\n",
       "<p>88799 rows × 4 columns</p>\n",
       "</div>"
      ],
      "text/plain": [
       "            name   freq cum_freq   rank\n",
       "0          SMITH  1.006    1.006      1\n",
       "1        JOHNSON  0.810    1.816      2\n",
       "2       WILLIAMS  0.699    2.515      3\n",
       "3          JONES  0.621    3.136      4\n",
       "4          BROWN  0.621    3.757      5\n",
       "...          ...    ...      ...    ...\n",
       "88794    AARDEMA  0.000   90.483  88795\n",
       "88795     AARANT  0.000   90.483  88796\n",
       "88796   AANDERUD  0.000   90.483  88797\n",
       "88797     AALUND  0.000   90.483  88798\n",
       "88798  AALDERINK  0.000   90.483  88799\n",
       "\n",
       "[88799 rows x 4 columns]"
      ]
     },
     "execution_count": 8,
     "metadata": {},
     "output_type": "execute_result"
    }
   ],
   "source": [
    "pd.DataFrame([x.split() for x in surnames],\n",
    "             columns = [\"name\", \"freq\", \"cum_freq\", \"rank\"]\n",
    "            )"
   ]
  },
  {
   "cell_type": "code",
   "execution_count": 9,
   "id": "0094b4f3",
   "metadata": {},
   "outputs": [],
   "source": [
    "def read_file(file):\n",
    "    with open(f\"data/{file}\") as f:\n",
    "        data = f.readlines()\n",
    "    return pd.DataFrame([x.split() for x in data],\n",
    "             columns = [\"name\", \"freq\", \"cum_freq\", \"rank\"]\n",
    "            )"
   ]
  },
  {
   "cell_type": "code",
   "execution_count": 10,
   "id": "fa4ee540",
   "metadata": {},
   "outputs": [],
   "source": [
    "surnames=read_file(\"dist.all.last.txt\")"
   ]
  },
  {
   "cell_type": "code",
   "execution_count": 11,
   "id": "8814c67a",
   "metadata": {},
   "outputs": [],
   "source": [
    "firsts = pd.concat([female_first_names, male_first_names]).name.values.tolist()\n",
    "lasts = surnames.name.values.tolist()"
   ]
  },
  {
   "cell_type": "code",
   "execution_count": 12,
   "id": "628e2739",
   "metadata": {},
   "outputs": [
    {
     "data": {
      "text/plain": [
       "['JAMES SMITH',\n",
       " 'JAMES JOHNSON',\n",
       " 'JAMES WILLIAMS',\n",
       " 'JAMES JONES',\n",
       " 'JAMES BROWN']"
      ]
     },
     "execution_count": 12,
     "metadata": {},
     "output_type": "execute_result"
    }
   ],
   "source": [
    "[\" \".join(x) for i, x in enumerate(itertools.product(firsts, lasts)) if i<5]"
   ]
  },
  {
   "cell_type": "code",
   "execution_count": 13,
   "id": "e36e0d5e",
   "metadata": {},
   "outputs": [],
   "source": [
    "import re"
   ]
  },
  {
   "cell_type": "code",
   "execution_count": 14,
   "id": "7c38f5de",
   "metadata": {},
   "outputs": [],
   "source": [
    "mail = \"ameckjune@gmail.com\""
   ]
  },
  {
   "cell_type": "code",
   "execution_count": 15,
   "id": "2c4b865d",
   "metadata": {},
   "outputs": [
    {
     "data": {
      "text/plain": [
       "<re.Match object; span=(0, 19), match='ameckjune@gmail.com'>"
      ]
     },
     "execution_count": 15,
     "metadata": {},
     "output_type": "execute_result"
    }
   ],
   "source": [
    "re.fullmatch(r'([A-Za-z0-9]+[.-_])*[A-Za-z0-9]+@[aol|gmail|outlook|yahoo|icloud|yandex]+(\\.[A-Z|a-z]{2,})+',\n",
    "            mail)"
   ]
  },
  {
   "cell_type": "code",
   "execution_count": 16,
   "id": "2050cf35",
   "metadata": {},
   "outputs": [
    {
     "data": {
      "text/plain": [
       "<re.Match object; span=(0, 12), match='123-123-3455'>"
      ]
     },
     "execution_count": 16,
     "metadata": {},
     "output_type": "execute_result"
    }
   ],
   "source": [
    "re.fullmatch(r'\\d\\d\\d-\\d\\d\\d-\\d\\d\\d\\d',\n",
    "            \"123-123-3455\")"
   ]
  },
  {
   "cell_type": "code",
   "execution_count": 17,
   "id": "3d516ca0",
   "metadata": {},
   "outputs": [],
   "source": [
    "pers={'first_name': 'Pasquale', 'last_name': 'Stommes', 'email': 'pasquale.stommes@outlook.com', 'sex': 'male', 'age': 3, 'job': 'NA', 'phone': '343-58-515'}"
   ]
  },
  {
   "cell_type": "code",
   "execution_count": 18,
   "id": "fa2ac737",
   "metadata": {},
   "outputs": [
    {
     "data": {
      "text/plain": [
       "7"
      ]
     },
     "execution_count": 18,
     "metadata": {},
     "output_type": "execute_result"
    }
   ],
   "source": [
    "len(pers)"
   ]
  },
  {
   "cell_type": "code",
   "execution_count": 19,
   "id": "a0d04896",
   "metadata": {},
   "outputs": [
    {
     "data": {
      "text/plain": [
       "True"
      ]
     },
     "execution_count": 19,
     "metadata": {},
     "output_type": "execute_result"
    }
   ],
   "source": [
    "list(pers.keys())==['first_name', 'last_name', 'email', 'sex', 'age', 'job', 'phone']"
   ]
  },
  {
   "cell_type": "code",
   "execution_count": 20,
   "id": "836248e2",
   "metadata": {},
   "outputs": [],
   "source": [
    "import os\n"
   ]
  },
  {
   "cell_type": "code",
   "execution_count": 21,
   "id": "8bc785d2",
   "metadata": {},
   "outputs": [
    {
     "data": {
      "text/plain": [
       "'C:\\\\Users\\\\archi\\\\Documents\\\\Random Person Generator'"
      ]
     },
     "execution_count": 21,
     "metadata": {},
     "output_type": "execute_result"
    }
   ],
   "source": [
    "os.path.dirname(os.path.abspath(\"random_person_generator.py\"))"
   ]
  },
  {
   "cell_type": "code",
   "execution_count": 22,
   "id": "4b08b5cc",
   "metadata": {},
   "outputs": [
    {
     "data": {
      "text/html": [
       "<div>\n",
       "<style scoped>\n",
       "    .dataframe tbody tr th:only-of-type {\n",
       "        vertical-align: middle;\n",
       "    }\n",
       "\n",
       "    .dataframe tbody tr th {\n",
       "        vertical-align: top;\n",
       "    }\n",
       "\n",
       "    .dataframe thead th {\n",
       "        text-align: right;\n",
       "    }\n",
       "</style>\n",
       "<table border=\"1\" class=\"dataframe\">\n",
       "  <thead>\n",
       "    <tr style=\"text-align: right;\">\n",
       "      <th></th>\n",
       "      <th>name</th>\n",
       "      <th>freq</th>\n",
       "      <th>cum_freq</th>\n",
       "      <th>rank</th>\n",
       "    </tr>\n",
       "  </thead>\n",
       "  <tbody>\n",
       "    <tr>\n",
       "      <th>0</th>\n",
       "      <td>JAMES</td>\n",
       "      <td>3.318</td>\n",
       "      <td>3.318</td>\n",
       "      <td>1</td>\n",
       "    </tr>\n",
       "    <tr>\n",
       "      <th>1</th>\n",
       "      <td>JOHN</td>\n",
       "      <td>3.271</td>\n",
       "      <td>6.589</td>\n",
       "      <td>2</td>\n",
       "    </tr>\n",
       "    <tr>\n",
       "      <th>2</th>\n",
       "      <td>ROBERT</td>\n",
       "      <td>3.143</td>\n",
       "      <td>9.732</td>\n",
       "      <td>3</td>\n",
       "    </tr>\n",
       "    <tr>\n",
       "      <th>3</th>\n",
       "      <td>MICHAEL</td>\n",
       "      <td>2.629</td>\n",
       "      <td>12.361</td>\n",
       "      <td>4</td>\n",
       "    </tr>\n",
       "    <tr>\n",
       "      <th>4</th>\n",
       "      <td>WILLIAM</td>\n",
       "      <td>2.451</td>\n",
       "      <td>14.812</td>\n",
       "      <td>5</td>\n",
       "    </tr>\n",
       "  </tbody>\n",
       "</table>\n",
       "</div>"
      ],
      "text/plain": [
       "      name   freq cum_freq rank\n",
       "0    JAMES  3.318    3.318    1\n",
       "1     JOHN  3.271    6.589    2\n",
       "2   ROBERT  3.143    9.732    3\n",
       "3  MICHAEL  2.629   12.361    4\n",
       "4  WILLIAM  2.451   14.812    5"
      ]
     },
     "execution_count": 22,
     "metadata": {},
     "output_type": "execute_result"
    }
   ],
   "source": [
    "female_first_names.head()"
   ]
  },
  {
   "cell_type": "code",
   "execution_count": 27,
   "id": "9839dc80",
   "metadata": {},
   "outputs": [],
   "source": [
    "import random"
   ]
  },
  {
   "cell_type": "code",
   "execution_count": 34,
   "id": "6e707b5e",
   "metadata": {
    "scrolled": true
   },
   "outputs": [
    {
     "data": {
      "text/plain": [
       "'JUDE'"
      ]
     },
     "execution_count": 34,
     "metadata": {},
     "output_type": "execute_result"
    }
   ],
   "source": [
    "random.choices(female_first_names.name.values, k=1)[0]"
   ]
  },
  {
   "cell_type": "code",
   "execution_count": null,
   "id": "0a2fd87e",
   "metadata": {},
   "outputs": [],
   "source": []
  }
 ],
 "metadata": {
  "kernelspec": {
   "display_name": "Python 3 (ipykernel)",
   "language": "python",
   "name": "python3"
  },
  "language_info": {
   "codemirror_mode": {
    "name": "ipython",
    "version": 3
   },
   "file_extension": ".py",
   "mimetype": "text/x-python",
   "name": "python",
   "nbconvert_exporter": "python",
   "pygments_lexer": "ipython3",
   "version": "3.9.13"
  }
 },
 "nbformat": 4,
 "nbformat_minor": 5
}
